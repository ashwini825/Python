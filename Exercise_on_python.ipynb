{
  "nbformat": 4,
  "nbformat_minor": 0,
  "metadata": {
    "colab": {
      "provenance": [],
      "authorship_tag": "ABX9TyOMpcEwgOHTdHRPiEb/GKmk",
      "include_colab_link": true
    },
    "kernelspec": {
      "name": "python3",
      "display_name": "Python 3"
    },
    "language_info": {
      "name": "python"
    }
  },
  "cells": [
    {
      "cell_type": "markdown",
      "metadata": {
        "id": "view-in-github",
        "colab_type": "text"
      },
      "source": [
        "<a href=\"https://colab.research.google.com/github/ashwini825/Python/blob/main/Exercise_on_python.ipynb\" target=\"_parent\"><img src=\"https://colab.research.google.com/assets/colab-badge.svg\" alt=\"Open In Colab\"/></a>"
      ]
    },
    {
      "cell_type": "code",
      "execution_count": null,
      "metadata": {
        "colab": {
          "base_uri": "https://localhost:8080/"
        },
        "id": "IA8AQIj1neGX",
        "outputId": "dd30a988-2996-4acc-e36b-293258dfbc78"
      },
      "outputs": [
        {
          "output_type": "stream",
          "name": "stdout",
          "text": [
            "Sum of (5+6j) and (7+4j) is : (12+10j)\n"
          ]
        }
      ],
      "source": [
        "#exercise 1\n",
        "# write a code for adding two complex numbers.\n",
        "a= 5+6j\n",
        "b= 7+4j\n",
        "print(\"Sum of {0} and {1} is : \".format(a,b)+str(a+b))"
      ]
    },
    {
      "cell_type": "code",
      "source": [],
      "metadata": {
        "id": "g93ytnsHNBWw"
      },
      "execution_count": null,
      "outputs": []
    },
    {
      "cell_type": "code",
      "source": [
        "#exercise 2\n",
        "#write a code to interchange the first and last item inside the list.\n",
        "names=[\"padmavathi\",\"Ravi\",\"sandeep\",\"rakesh\",\"shoba\",\"nikhil\"]\n",
        "temp=names[0]\n",
        "names[0]=names[-1]\n",
        "names[-1]=temp\n",
        "print(names)\n",
        "\n",
        "#another method using * operand\n",
        "names=[\"padmavathi\",\"Ravi\",\"sandeep\",\"rakesh\",\"shoba\",\"nikhil\"]\n",
        "start, *middle, end = names\n",
        "names=end, *middle, start\n",
        "print(names)\n",
        "\n",
        "#using pop method\n",
        "names=[\"padmavathi\",\"Ravi\",\"sandeep\",\"rakesh\",\"shoba\",\"nikhil\"]\n",
        "first_name=names.pop(0)\n",
        "last_name=names.pop()\n",
        "names.insert(0, last_name)\n",
        "names.append(first_name)\n",
        "print(names)"
      ],
      "metadata": {
        "id": "bfiKR0KUn6TS",
        "colab": {
          "base_uri": "https://localhost:8080/"
        },
        "outputId": "94d8f481-61c9-4a56-8967-a5271905c355"
      },
      "execution_count": null,
      "outputs": [
        {
          "output_type": "stream",
          "name": "stdout",
          "text": [
            "['nikhil', 'Ravi', 'sandeep', 'rakesh', 'shoba', 'padmavathi']\n",
            "('nikhil', 'Ravi', 'sandeep', 'rakesh', 'shoba', 'padmavathi')\n",
            "['nikhil', 'Ravi', 'sandeep', 'rakesh', 'shoba', 'padmavathi']\n"
          ]
        }
      ]
    },
    {
      "cell_type": "code",
      "source": [
        "#exercise 3\n",
        "#write a code to interchange any two item inside the list.\n",
        "import random\n",
        "names=[\"prema\",\"mohan\",\"smitha\",\"shruthi\",\"ashwini\"]\n",
        "print(\"List of names before swaping any two items: \",end=\" \")\n",
        "print(names)\n",
        "random_number_1=random.randint(0,len(names))\n",
        "print(random_number_1)\n",
        "random_number_2=random.randint(0,len(names))\n",
        "print(random_number_2)\n",
        "if(random_number_1==random_number_2):\n",
        "  random_number_2=random.randint(0,len(names))\n",
        "  print(random_number_2)\n",
        "\n",
        "item_1=names.pop(random_number_1)\n",
        "print(item_1)\n",
        "item_2=names.pop(random_number_2)\n",
        "print(item_2)\n",
        "\n",
        "\n",
        "names.insert(random_number_1,item_2)\n",
        "print(names)\n",
        "names.insert(random_number_2,item_1)\n",
        "print(\"List of names after swaping any two items: \",end=\" \")\n",
        "print(names)"
      ],
      "metadata": {
        "colab": {
          "base_uri": "https://localhost:8080/"
        },
        "id": "5QVecAXP9yWp",
        "outputId": "6b2dcac7-e14a-456a-91a4-500e12432ebe"
      },
      "execution_count": null,
      "outputs": [
        {
          "output_type": "stream",
          "name": "stdout",
          "text": [
            "List of names before swaping any two items:  ['prema', 'mohan', 'smitha', 'shruthi', 'ashwini']\n",
            "3\n",
            "1\n",
            "shruthi\n",
            "mohan\n",
            "['prema', 'smitha', 'ashwini', 'mohan']\n",
            "List of names after swaping any two items:  ['prema', 'shruthi', 'smitha', 'ashwini', 'mohan']\n"
          ]
        }
      ]
    },
    {
      "cell_type": "code",
      "source": [],
      "metadata": {
        "id": "NfnwdxCj8Ns2"
      },
      "execution_count": null,
      "outputs": []
    },
    {
      "cell_type": "code",
      "source": [
        "#reversing the names without reverse function\n",
        "#Excersie 4\n",
        "names_1=names.copy()\n",
        "new_names=[]\n",
        "for i in range(len(names)):\n",
        "  new_names.append(names.pop())\n",
        "\n",
        "#second method\n",
        "print(names_1[::-1])"
      ],
      "metadata": {
        "id": "FaOMAv4D7zNe",
        "colab": {
          "base_uri": "https://localhost:8080/"
        },
        "outputId": "046cd235-2adb-4418-a4ab-bec662726afa"
      },
      "execution_count": null,
      "outputs": [
        {
          "output_type": "stream",
          "name": "stdout",
          "text": [
            "['padmavathi', 'shoba', 'rakesh', 'sandeep', 'Ravi', 'nikhil']\n"
          ]
        }
      ]
    },
    {
      "cell_type": "code",
      "source": [
        "#Exercise 5 Create a program that asks the user to enter their name and their age. Print out a message addressed to them that tells them the year that they will turn 100 years old\n",
        "age=int(input(\"Enter your age : \"))\n",
        "print(\"Your name is : \"+input(\"Enter your name : \")+\"\\n\")\n",
        "print(\"your are \"+str()+\" years old\")\n",
        "print(\"In \"+str((100-age))+\" year you will turn to 100. \")"
      ],
      "metadata": {
        "colab": {
          "base_uri": "https://localhost:8080/"
        },
        "id": "CMPRWsprBdSM",
        "outputId": "f37732a9-0347-4249-8ca8-4bd3ea8d2e27"
      },
      "execution_count": null,
      "outputs": [
        {
          "output_type": "stream",
          "name": "stdout",
          "text": [
            "Enter your age : 56\n",
            "Enter your name : Mohan\n",
            "Your name is : Mohan\n",
            "\n",
            "your are  years old\n",
            "In 44 year you will turn to 100. \n"
          ]
        }
      ]
    },
    {
      "cell_type": "code",
      "source": [
        "#Exercise 6 Ask the user for a number. Depending on whether the number is even or odd, print out an appropriate message to the user\n",
        "# % symbol gives the reminder as zero\n",
        "#checking the number is the multiple of 4\n",
        "number=int(input(\"Enter a number to check whether its odd or even : \"))\n",
        "if(number%2==0):\n",
        "  if(number%4==0):\n",
        "    print(\"The number \"+str(number)+\" is multiple of 4. \")\n",
        "  print(\"The number \"+str(number)+\" is even. \")\n",
        "else:\n",
        "  print(\"The number \"+str(number)+\" is odd. \")"
      ],
      "metadata": {
        "colab": {
          "base_uri": "https://localhost:8080/"
        },
        "id": "gIk-DrmKBnsu",
        "outputId": "6b8dc550-a651-4c3b-c8f8-b01040dae418"
      },
      "execution_count": null,
      "outputs": [
        {
          "output_type": "stream",
          "name": "stdout",
          "text": [
            "Enter a number to check whether its odd or even : 64\n",
            "The number 64 is multiple of 4. \n",
            "The number 64 is even. \n"
          ]
        }
      ]
    },
    {
      "cell_type": "code",
      "source": [
        "#Exercise 7 write a program that prints out all the elements of the list that are less than 5.\n",
        "lists=[]\n",
        "number=int(input(\"Enter the number of items you need to add to check the how many numbers are below 5 : \"))\n",
        "for i in range(number):\n",
        "  item=int(input(\"Enter the number: \"))\n",
        "  lists.append(item)\n",
        "\n",
        "print(lists, end=\"\\n\")\n",
        "new_list_less_than_five=[]\n",
        "for j in range(len(lists)):\n",
        "  #print(lists[j])\n",
        "  if(lists[j]<10):\n",
        "    new_list_less_than_five.append(lists[j])\n",
        "\n",
        "print(new_list_less_than_five)\n"
      ],
      "metadata": {
        "id": "E7jDzX7-DtnQ",
        "colab": {
          "base_uri": "https://localhost:8080/"
        },
        "outputId": "960c3f5b-384e-44c1-ddbc-f0e037bc5c37"
      },
      "execution_count": null,
      "outputs": [
        {
          "output_type": "stream",
          "name": "stdout",
          "text": [
            "Enter the number of items you need to add to check the how many numbers are below 5 : 4\n",
            "Enter the number: 3\n",
            "Enter the number: 9\n",
            "Enter the number: 8\n",
            "Enter the number: 7\n",
            "[3, 9, 8, 7]\n",
            "3\n",
            "9\n",
            "8\n",
            "7\n",
            "[3]\n"
          ]
        }
      ]
    },
    {
      "cell_type": "code",
      "source": [
        "#Question 8 \n",
        "a = [1, 1, 2, 3, 5, 8, 13, 21, 34, 55, 89]\n",
        "b = [1, 2, 3, 4, 5, 6, 7, 8, 9, 10, 11, 12, 13]\n",
        "result=[]\n",
        "if max(len(a),len(b))==len(a):\n",
        "  lenght=len(a)\n",
        "  for i in range(len(b)):\n",
        "    if b[i] in a:\n",
        "      print(b[i])\n",
        "      result.append(b[i])\n",
        "else:\n",
        "   for j in range(len(a)):\n",
        "    if a[j] in b:\n",
        "      print(a[j])\n",
        "      result.append(a[j])\n",
        "\n",
        "result=[*set(result)]# is used as simple method to remove the duplicates\n",
        "result.sort()\n",
        "print(result)\n",
        "\n",
        "\n",
        "#method 2  \n",
        "#a = [1, 1, 2, 3, 5, 8, 13, 21, 34, 55, 89]\n",
        "#b = [1, 2, 3, 4, 5, 6, 7, 8, 9, 10, 11, 12, 13]\n",
        "#print(set(a[x] for x in range(len(a))if a[x] in b))\n",
        " "
      ],
      "metadata": {
        "colab": {
          "base_uri": "https://localhost:8080/",
          "height": 187
        },
        "id": "_Ke6e71DOIEM",
        "outputId": "d17d9455-be3a-4fbc-d947-c94939e7a878"
      },
      "execution_count": null,
      "outputs": [
        {
          "output_type": "stream",
          "name": "stdout",
          "text": [
            "1\n",
            "1\n",
            "2\n",
            "3\n",
            "5\n",
            "8\n",
            "13\n",
            "[1, 2, 3, 5, 8, 13]\n"
          ]
        },
        {
          "output_type": "execute_result",
          "data": {
            "text/plain": [
              "'a = [1, 1, 2, 3, 5, 8, 13, 21, 34, 55, 89]\\nb = [1, 2, 3, 4, 5, 6, 7, 8, 9, 10, 11, 12, 13]\\nprint(set(a[x] for x in range(len(a))if a[x] in b))'"
            ],
            "application/vnd.google.colaboratory.intrinsic+json": {
              "type": "string"
            }
          },
          "metadata": {},
          "execution_count": 63
        }
      ]
    },
    {
      "cell_type": "code",
      "source": [
        "# Question 9 to check the given sequence is a palendrome or not\n",
        "sequence=input(\"Enter the sequence to check its a palendrome or not: \")\n",
        "sequence_list=list(sequence)\n",
        "original_list=sequence_list.copy()\n",
        "sequence_list.reverse()\n",
        "if original_list==sequence_list:\n",
        "  print(\"The sequence \"+sequence+\" is a palendrome\")\n",
        "else:\n",
        "  print(\"The sequence \"+sequence+\" is not a palendrome\")"
      ],
      "metadata": {
        "id": "V0P8z88AOW-c",
        "colab": {
          "base_uri": "https://localhost:8080/"
        },
        "outputId": "549a0876-7fab-4bb5-e7ba-a7350bf9b18d"
      },
      "execution_count": null,
      "outputs": [
        {
          "output_type": "stream",
          "name": "stdout",
          "text": [
            "Enter the sequence to check its a palendrome or not: hello\n",
            "The sequence hello is not a palendrome\n"
          ]
        }
      ]
    },
    {
      "cell_type": "code",
      "source": [
        "#Question 10 create a list which has only even numbers in it\n",
        "def to_check_even(num):\n",
        "  print([numbers[i] for i in range(len(numbers)) if (int(numbers[i])%2==0)])\n",
        "\n",
        "a=int(input(\"Enter the number of numbers you need to enter to check which are even numbers among them : \"))\n",
        "numbers=[input(\"Enter the numbers : \") for i in range(a) ]\n",
        "to_check_even(numbers)\n"
      ],
      "metadata": {
        "colab": {
          "base_uri": "https://localhost:8080/"
        },
        "id": "ogt9p-GwHa1Y",
        "outputId": "be0ed9bf-7416-4a23-8da4-40de85a2545c"
      },
      "execution_count": null,
      "outputs": [
        {
          "output_type": "stream",
          "name": "stdout",
          "text": [
            "Enter the number of numbers you need to enter to check which are even numbers among them : 3\n",
            "Enter the numbers : 6\n",
            "Enter the numbers : 2\n",
            "Enter the numbers : 3\n",
            "['6', '2']\n"
          ]
        }
      ]
    },
    {
      "cell_type": "code",
      "source": [
        "\n"
      ],
      "metadata": {
        "id": "TXvCrdb4MxhX"
      },
      "execution_count": 7,
      "outputs": []
    },
    {
      "cell_type": "code",
      "source": [
        "#Question 11: Creating rock, paper, scissor.\n",
        "import random\n",
        "\n",
        "def to_check_the_first_player(player1,player2):\n",
        "  turn=random.randint(1,2)\n",
        "  if turn==1:\n",
        "    name_of_the_turn=player1\n",
        "    return(name_of_the_turn)\n",
        "    print(\"First turn is of player : \"+str(turn)+\" i.e \"+name_of_the_turn)\n",
        "  else:\n",
        "    name_of_the_turn=player2\n",
        "    return(name_of_the_turn)\n",
        "    print(\"First turn is of player : \"+str(turn)+\" i.e \"+name_of_the_turn)\n",
        "\n",
        "\n",
        "player1=input(\"Enter the 1st player name : \")\n",
        "player2=input(\"Enter the 2nd player name : \")\n",
        "\n",
        "name_of_the_turn=to_check_the_first_player(player1,player2)\n",
        "print(\"Let the player \"+name_of_the_turn +\" choose rock or paper or scissor :\", end=\"\\n\")\n",
        "player_1_choice=input()\n",
        "print(\"Let the second player choose rock or paper or scissor :\", end=\"\\n\")\n",
        "player_2_choice=input()\n",
        "\n",
        "def checking_for_winner(player_1_choice,player_2_choice):\n",
        "  if (player_1_choice==player_2_choice):\n",
        "    print(\"Both are tie\")\n",
        "  elif((player_1_choice==\"scissor\") and (player_2_choice==\"paper\")):\n",
        "    print(\"Player 1 i.e \"+player1+\" won the game\")\n",
        "  elif((player_1_choice==\"scissor\") and (player_2_choice==\"rock\")):\n",
        "    print(\"Player 2 i.e \"+player2+\" won the game\")\n",
        "  elif((player_1_choice==\"rock\") and (player_2_choice==\"paper\")):\n",
        "    print(\"Player 2 i.e \"+player2+\" won the game\")\n",
        "  elif((player_1_choice==\"rock\") and (player_2_choice==\"scissor\")):\n",
        "    print(\"Player 1 i.e \"+player1+\" won the game\")\n",
        "  elif((player_1_choice==\"paper\") and (player_2_choice==\"rock\")):\n",
        "    print(\"Player 1 i.e \"+player1+\" won the game\")\n",
        "  elif((player_1_choice==\"paper\") and (player_2_choice==\"scissor\")):\n",
        "    print(\"Player 2 i.e \"+player2+\" won the game\")\n",
        "print(player_1_choice, player_2_choice)\n",
        "\n",
        "checking_for_winner(player_1_choice,player_2_choice)"
      ],
      "metadata": {
        "id": "cX9p1Arx2sdo",
        "colab": {
          "base_uri": "https://localhost:8080/"
        },
        "outputId": "c39b188e-6c44-4dd9-da5e-37725952d9a1"
      },
      "execution_count": 7,
      "outputs": [
        {
          "output_type": "stream",
          "name": "stdout",
          "text": [
            "Enter the 1st player name : ashu\n",
            "Enter the 2nd player name : ash\n",
            "Let the player ash choose rock or paper or scissor :\n",
            "rock\n",
            "Let the second player choose rock or paper or scissor :\n",
            "scissor\n",
            "rock scissor\n",
            "Player 1 i.e ashu won the game\n"
          ]
        }
      ]
    },
    {
      "cell_type": "code",
      "source": [],
      "metadata": {
        "id": "6eMhHzCT_YjZ"
      },
      "execution_count": 7,
      "outputs": []
    },
    {
      "cell_type": "code",
      "source": [],
      "metadata": {
        "id": "KzQQlQPvAeuC"
      },
      "execution_count": null,
      "outputs": []
    },
    {
      "cell_type": "code",
      "source": [],
      "metadata": {
        "colab": {
          "base_uri": "https://localhost:8080/"
        },
        "id": "yy9zTV8jQWdZ",
        "outputId": "0122b14d-0046-4a56-ad7f-d4afee9ed825"
      },
      "execution_count": null,
      "outputs": [
        {
          "output_type": "stream",
          "name": "stdout",
          "text": [
            "['Aradhya', 'Ashwini']\n"
          ]
        }
      ]
    },
    {
      "cell_type": "code",
      "source": [],
      "metadata": {
        "id": "Obm_6RbYQdAU"
      },
      "execution_count": null,
      "outputs": []
    },
    {
      "cell_type": "code",
      "source": [],
      "metadata": {
        "id": "4JZEMZazRCAC"
      },
      "execution_count": null,
      "outputs": []
    }
  ]
}